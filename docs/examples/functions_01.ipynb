{
 "cells": [
  {
   "attachments": {},
   "cell_type": "markdown",
   "metadata": {},
   "source": [
    "# Functions Examples!  💕\n",
    "\n",
    "🚀 Extend your string powers with Str+ "
   ]
  },
  {
   "attachments": {},
   "cell_type": "markdown",
   "metadata": {},
   "source": [
    "### Setup [Optional]\n",
    "<details class=\"tip\">\n",
    "\n",
    "<summary>Create a virtualenv 🔧 </summary>\n",
    "Create a new virtualenv before start this notebook to be able to select it as the kernel, if you want!\n",
    "\n",
    "* Create a new virtualenv.\n",
    "\n",
    "```\n",
    "  pyenv virtualenv 3.9.16 .envStrPlus\n",
    "  pyenv activate .envStrPlus\n",
    "  pip install --upgrade pip\n",
    "  pip install ipykernel\n",
    "  ```\n",
    "\n",
    "* Delete the virtualenv.\n",
    "\n",
    "  ```\n",
    "  pyenv deactivate .envStrPlus\n",
    "  pyenv virtualenv-delete -f .envStrPlus\n",
    "  ```\n",
    "\n",
    "* Should return empty\n",
    "\n",
    "  ```\n",
    "  pyenv versions | grep .envStrPlus\n",
    "  ``` \n",
    "\n",
    "</details>"
   ]
  },
  {
   "attachments": {},
   "cell_type": "markdown",
   "metadata": {},
   "source": [
    "### Required! 💢"
   ]
  },
  {
   "cell_type": "code",
   "execution_count": 2,
   "metadata": {},
   "outputs": [
    {
     "name": "stdout",
     "output_type": "stream",
     "text": [
      "Collecting strplus\n",
      "  Downloading strplus-1.0.7-py3-none-any.whl (7.3 kB)\n",
      "Installing collected packages: strplus\n",
      "Successfully installed strplus-1.0.7\n",
      "Note: you may need to restart the kernel to use updated packages.\n"
     ]
    }
   ],
   "source": [
    "pip install strplus"
   ]
  },
  {
   "cell_type": "code",
   "execution_count": 1,
   "metadata": {},
   "outputs": [],
   "source": [
    "from strplus import Str"
   ]
  },
  {
   "attachments": {},
   "cell_type": "markdown",
   "metadata": {},
   "source": [
    "## Print inside!"
   ]
  },
  {
   "cell_type": "code",
   "execution_count": 2,
   "metadata": {},
   "outputs": [
    {
     "name": "stdout",
     "output_type": "stream",
     "text": [
      "Print me please, simple and easy!\n"
     ]
    }
   ],
   "source": [
    "my_new_string = Str(\"Print me please, simple and easy!\")\n",
    "\n",
    "my_new_string.print"
   ]
  },
  {
   "cell_type": "code",
   "execution_count": 3,
   "metadata": {},
   "outputs": [
    {
     "name": "stdout",
     "output_type": "stream",
     "text": [
      "Print\n",
      "me\n",
      "please\n",
      "simple\n",
      "and\n",
      "easy\n"
     ]
    }
   ],
   "source": [
    "for word in my_new_string.list:\n",
    "    word.print"
   ]
  },
  {
   "cell_type": "code",
   "execution_count": 4,
   "metadata": {},
   "outputs": [],
   "source": [
    "### Run project local 📀\n",
    "# import os \n",
    "# import sys \n",
    "# sys.path.insert(0, os.path.abspath(\"../..\"))\n",
    "# sys.path.insert(0, os.path.abspath(\"..\"))"
   ]
  }
 ],
 "metadata": {
  "kernelspec": {
   "display_name": "strplus-exZQCaoz-py3.9",
   "language": "python",
   "name": "python3"
  },
  "language_info": {
   "codemirror_mode": {
    "name": "ipython",
    "version": 3
   },
   "file_extension": ".py",
   "mimetype": "text/x-python",
   "name": "python",
   "nbconvert_exporter": "python",
   "pygments_lexer": "ipython3",
   "version": "3.9.16"
  },
  "orig_nbformat": 4
 },
 "nbformat": 4,
 "nbformat_minor": 2
}
