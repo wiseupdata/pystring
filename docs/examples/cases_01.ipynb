{
 "cells": [
  {
   "attachments": {},
   "cell_type": "markdown",
   "metadata": {},
   "source": [
    "# Cases examples! 🚀\n",
    "\n",
    "✨ Extend your string powers with Str+ "
   ]
  },
  {
   "attachments": {},
   "cell_type": "markdown",
   "metadata": {},
   "source": [
    "### Setup [Optional]\n",
    "  <details class=\"tip\">\n",
    "  <summary>Create a virtualenv 🔧 </summary>\n",
    "\n",
    "    <p>\n",
    "    Create a new virtualenv before start this notebook to be able to select it as the kernel, if you want!\n",
    "    \n",
    "   * Create a new virtualenv.\n",
    "     \n",
    "     ```\n",
    "     pyenv virtualenv 3.9.16 .envStrPlus\n",
    "     pyenv activate .envStrPlus\n",
    "     pip install --upgrade pip\n",
    "     pip install ipykernel\n",
    "     ```\n",
    "   \n",
    "   * Delete the virtualenv.\n",
    "   \n",
    "     ```\n",
    "     pyenv deactivate .envStrPlus\n",
    "     pyenv virtualenv-delete -f .envStrPlus\n",
    "     ```\n",
    "   \n",
    "   *  should return empty\n",
    "     \n",
    "     ```\n",
    "     pyenv versions | grep .envStrPlus\n",
    "     ``` \n",
    "   \n",
    "    </p>\n",
    "  </details>"
   ]
  },
  {
   "attachments": {},
   "cell_type": "markdown",
   "metadata": {},
   "source": [
    "### Required! 💢"
   ]
  },
  {
   "cell_type": "code",
   "execution_count": 2,
   "metadata": {},
   "outputs": [
    {
     "name": "stdout",
     "output_type": "stream",
     "text": [
      "Collecting strplus\n",
      "  Using cached strplus-1.0.6-py3-none-any.whl (7.3 kB)\n",
      "Installing collected packages: strplus\n",
      "Successfully installed strplus-1.0.6\n",
      "Note: you may need to restart the kernel to use updated packages.\n"
     ]
    }
   ],
   "source": [
    "pip install strplus"
   ]
  },
  {
   "cell_type": "code",
   "execution_count": 3,
   "metadata": {},
   "outputs": [],
   "source": [
    "from strplus import Str"
   ]
  },
  {
   "attachments": {},
   "cell_type": "markdown",
   "metadata": {},
   "source": [
    "## 😍 Simples use no parentheses!"
   ]
  },
  {
   "cell_type": "code",
   "execution_count": 4,
   "metadata": {},
   "outputs": [
    {
     "data": {
      "text/plain": [
       "'CastThisStringToPascal'"
      ]
     },
     "execution_count": 4,
     "metadata": {},
     "output_type": "execute_result"
    }
   ],
   "source": [
    "my_string = Str(\"Cast_this_string_TO_Pascal!\")\n",
    "\n",
    "my_string.pascal"
   ]
  },
  {
   "cell_type": "code",
   "execution_count": 5,
   "metadata": {},
   "outputs": [
    {
     "data": {
      "text/plain": [
       "'castThisStringToCamel'"
      ]
     },
     "execution_count": 5,
     "metadata": {},
     "output_type": "execute_result"
    }
   ],
   "source": [
    "my_string = Str(\"cast_this_string_to_camel\")\n",
    "\n",
    "my_string.camel"
   ]
  },
  {
   "cell_type": "code",
   "execution_count": 6,
   "metadata": {},
   "outputs": [
    {
     "data": {
      "text/plain": [
       "'cast_this_string_to_snake'"
      ]
     },
     "execution_count": 6,
     "metadata": {},
     "output_type": "execute_result"
    }
   ],
   "source": [
    "my_string = Str(\"Cast_this_StringToSnake\")\n",
    "\n",
    "my_string.snake"
   ]
  },
  {
   "attachments": {},
   "cell_type": "markdown",
   "metadata": {},
   "source": [
    "## 🔥 You can use with parentheses also! "
   ]
  },
  {
   "attachments": {},
   "cell_type": "markdown",
   "metadata": {},
   "source": [
    "#### Snake examples 🐍"
   ]
  },
  {
   "cell_type": "code",
   "execution_count": 7,
   "metadata": {},
   "outputs": [
    {
     "data": {
      "text/plain": [
       "'cast_me_use_like_a_normal_function'"
      ]
     },
     "execution_count": 7,
     "metadata": {},
     "output_type": "execute_result"
    }
   ],
   "source": [
    "Str(\"CastMeUseLikeANormalFunction\").to_snake()"
   ]
  },
  {
   "cell_type": "code",
   "execution_count": 8,
   "metadata": {},
   "outputs": [
    {
     "data": {
      "text/plain": [
       "'cast_this_path_2021_01_01'"
      ]
     },
     "execution_count": 8,
     "metadata": {},
     "output_type": "execute_result"
    }
   ],
   "source": [
    "Str(\"CastThisPath/2021/01/01\").to_snake()"
   ]
  },
  {
   "attachments": {},
   "cell_type": "markdown",
   "metadata": {},
   "source": [
    "#### Pascal examples 🐫"
   ]
  },
  {
   "cell_type": "code",
   "execution_count": 9,
   "metadata": {},
   "outputs": [
    {
     "data": {
      "text/plain": [
       "'CastThisPathToPascal20210101'"
      ]
     },
     "execution_count": 9,
     "metadata": {},
     "output_type": "execute_result"
    }
   ],
   "source": [
    "Str(\"cast_this_path_to_pascal/2021/01/01\").to_pascal()"
   ]
  },
  {
   "cell_type": "code",
   "execution_count": 10,
   "metadata": {},
   "outputs": [
    {
     "data": {
      "text/plain": [
       "'CatMeToPascalPlease'"
      ]
     },
     "execution_count": 10,
     "metadata": {},
     "output_type": "execute_result"
    }
   ],
   "source": [
    "Str(\"cat me to_Pascal Please\").to_pascal()"
   ]
  },
  {
   "attachments": {},
   "cell_type": "markdown",
   "metadata": {},
   "source": [
    "#### Camel 🐪"
   ]
  },
  {
   "cell_type": "code",
   "execution_count": 11,
   "metadata": {},
   "outputs": [
    {
     "data": {
      "text/plain": [
       "'castThisStringToSnake'"
      ]
     },
     "execution_count": 11,
     "metadata": {},
     "output_type": "execute_result"
    }
   ],
   "source": [
    "my_string.to_camel()"
   ]
  },
  {
   "cell_type": "code",
   "execution_count": 12,
   "metadata": {},
   "outputs": [
    {
     "data": {
      "text/plain": [
       "'referenceDataset'"
      ]
     },
     "execution_count": 12,
     "metadata": {},
     "output_type": "execute_result"
    }
   ],
   "source": [
    "Str(\"reference dataset\").to_camel()"
   ]
  },
  {
   "attachments": {},
   "cell_type": "markdown",
   "metadata": {},
   "source": [
    "#### Complex 👽"
   ]
  },
  {
   "cell_type": "code",
   "execution_count": 13,
   "metadata": {},
   "outputs": [
    {
     "data": {
      "text/plain": [
       "'My'"
      ]
     },
     "execution_count": 13,
     "metadata": {},
     "output_type": "execute_result"
    }
   ],
   "source": [
    "# Complex return, recursive Str\n",
    "Str(\"MyStringWorks\").to_snake().split(\"_\")[0].pascal"
   ]
  },
  {
   "attachments": {},
   "cell_type": "markdown",
   "metadata": {},
   "source": [
    "<details class=\"warning\">\n",
    "<summary>Common behavior 👌</summary>\n",
    "  <p>\n",
    "   \"_\".join returns a str class not a not or Str with the good features!\n",
    "    In the Str we only have recessivity we are not overwriting the str from the global to Str, so it's normal and expected that behavior \n",
    "</details>"
   ]
  },
  {
   "cell_type": "code",
   "execution_count": 14,
   "metadata": {},
   "outputs": [
    {
     "name": "stdout",
     "output_type": "stream",
     "text": [
      "'str' object has no attribute 'pascal'\n"
     ]
    }
   ],
   "source": [
    "try:\n",
    "    \"_\".join(Str(\"MyStringWorks\").to_snake().split(\"_\")[0:1]).pascal\n",
    "except Exception as e:\n",
    "    print(e)"
   ]
  },
  {
   "cell_type": "code",
   "execution_count": 15,
   "metadata": {},
   "outputs": [
    {
     "data": {
      "text/plain": [
       "'CAST_THIS_STRINGTOSNAKE'"
      ]
     },
     "execution_count": 15,
     "metadata": {},
     "output_type": "execute_result"
    }
   ],
   "source": [
    "# you always has the built-in native Python functions\n",
    "my_string.upper()"
   ]
  },
  {
   "attachments": {},
   "cell_type": "markdown",
   "metadata": {},
   "source": [
    "## 😏 Just use a specif function if you prefer!"
   ]
  },
  {
   "cell_type": "code",
   "execution_count": 16,
   "metadata": {},
   "outputs": [],
   "source": [
    "from strplus.functions import *"
   ]
  },
  {
   "cell_type": "code",
   "execution_count": 17,
   "metadata": {},
   "outputs": [
    {
     "data": {
      "text/plain": [
       "'parseToCamel'"
      ]
     },
     "execution_count": 17,
     "metadata": {},
     "output_type": "execute_result"
    }
   ],
   "source": [
    "to_camel(\"parse_to_camel\")"
   ]
  },
  {
   "cell_type": "code",
   "execution_count": 18,
   "metadata": {},
   "outputs": [
    {
     "data": {
      "text/plain": [
       "'this_is_another_test'"
      ]
     },
     "execution_count": 18,
     "metadata": {},
     "output_type": "execute_result"
    }
   ],
   "source": [
    "to_snake(\"ThisIsAnotherTest\")"
   ]
  },
  {
   "cell_type": "code",
   "execution_count": 19,
   "metadata": {},
   "outputs": [],
   "source": [
    "### Run project local 📀\n",
    "# import os \n",
    "# import sys \n",
    "# sys.path.insert(0, os.path.abspath(\"../..\"))\n",
    "# sys.path.insert(0, os.path.abspath(\"..\"))"
   ]
  }
 ],
 "metadata": {
  "kernelspec": {
   "display_name": "strplus-exZQCaoz-py3.9",
   "language": "python",
   "name": "python3"
  },
  "language_info": {
   "codemirror_mode": {
    "name": "ipython",
    "version": 3
   },
   "file_extension": ".py",
   "mimetype": "text/x-python",
   "name": "python",
   "nbconvert_exporter": "python",
   "pygments_lexer": "ipython3",
   "version": "3.9.16"
  },
  "orig_nbformat": 4
 },
 "nbformat": 4,
 "nbformat_minor": 2
}
