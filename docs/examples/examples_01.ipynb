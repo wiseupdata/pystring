{
 "cells": [
  {
   "attachments": {},
   "cell_type": "markdown",
   "metadata": {},
   "source": [
    "# Examples! ❤️\n",
    "\n",
    "## Extend your string powers with Str+ 🚀\n",
    "\n",
    "<div class=\"admonition note\">\n",
    "  <p class=\"admonition-title\">Optional</p>\n",
    "  <p>\n",
    "   Create a new virtualenv before start this notebook to be able to select it as the kernel, if you want!\n",
    "  </p>\n",
    "</div>\n",
    "\n",
    "Env setup 🔧\n",
    "\n",
    "> * Create a new virtualenv.\n",
    ">   \n",
    ">   ```\n",
    ">   pyenv virtualenv 3.9.16 .envStrPlus\n",
    ">   pyenv activate .envStrPlus\n",
    ">   pip install --upgrade pip\n",
    ">   pip install ipykernel\n",
    ">   ```\n",
    "> \n",
    "> * Delete the virtualenv.\n",
    "> \n",
    ">   ```\n",
    ">   pyenv deactivate .envStrPlus\n",
    ">   pyenv virtualenv-delete -f .envStrPlus\n",
    ">   ```\n",
    "> \n",
    ">   should return empty\n",
    ">   \n",
    ">   ```\n",
    ">   versions | grep .envStrPlus\n",
    ">   ``` \n",
    "> \n",
    "\n",
    "### Required! 💢"
   ]
  },
  {
   "cell_type": "code",
   "execution_count": 39,
   "metadata": {},
   "outputs": [
    {
     "name": "stdout",
     "output_type": "stream",
     "text": [
      "Requirement already satisfied: strplus in /home/silvio/.pyenv/versions/3.9.16/envs/.envStrPlus/lib/python3.9/site-packages (0.0.11)\n",
      "Note: you may need to restart the kernel to use updated packages.\n"
     ]
    }
   ],
   "source": [
    "pip install strplus"
   ]
  },
  {
   "cell_type": "code",
   "execution_count": 40,
   "metadata": {},
   "outputs": [],
   "source": [
    "from strplus import Str"
   ]
  },
  {
   "attachments": {},
   "cell_type": "markdown",
   "metadata": {},
   "source": [
    "## Simples use 😍 no parentheses (), just call!"
   ]
  },
  {
   "cell_type": "code",
   "execution_count": 41,
   "metadata": {},
   "outputs": [
    {
     "data": {
      "text/plain": [
       "'CastThisStringToPascal'"
      ]
     },
     "execution_count": 41,
     "metadata": {},
     "output_type": "execute_result"
    }
   ],
   "source": [
    "my_string = Str(\"Cast_this_string_TO_Pascal!\")\n",
    "\n",
    "my_string.pascal"
   ]
  },
  {
   "cell_type": "code",
   "execution_count": 42,
   "metadata": {},
   "outputs": [
    {
     "data": {
      "text/plain": [
       "'castThisStringToCamel'"
      ]
     },
     "execution_count": 42,
     "metadata": {},
     "output_type": "execute_result"
    }
   ],
   "source": [
    "my_string = Str(\"cast_this_string_to_camel\")\n",
    "\n",
    "my_string.camel"
   ]
  },
  {
   "cell_type": "code",
   "execution_count": 43,
   "metadata": {},
   "outputs": [
    {
     "data": {
      "text/plain": [
       "'cast_this_string_to_camel'"
      ]
     },
     "execution_count": 43,
     "metadata": {},
     "output_type": "execute_result"
    }
   ],
   "source": [
    "my_string = Str(\"Cast_this_StringToCamel\")\n",
    "\n",
    "my_string.snake"
   ]
  },
  {
   "attachments": {},
   "cell_type": "markdown",
   "metadata": {},
   "source": [
    "## Use like normally, built-in functions with parentheses () ! 🔥"
   ]
  },
  {
   "attachments": {},
   "cell_type": "markdown",
   "metadata": {},
   "source": [
    "#### Snake examples 🐍"
   ]
  },
  {
   "cell_type": "code",
   "execution_count": 44,
   "metadata": {},
   "outputs": [
    {
     "data": {
      "text/plain": [
       "'cast_me_use_like_a_normal_function'"
      ]
     },
     "execution_count": 44,
     "metadata": {},
     "output_type": "execute_result"
    }
   ],
   "source": [
    "Str(\"CastMeUseLikeANormalFunction\").to_snake()"
   ]
  },
  {
   "cell_type": "code",
   "execution_count": 45,
   "metadata": {},
   "outputs": [
    {
     "data": {
      "text/plain": [
       "'cast_this_path_2021_01_01'"
      ]
     },
     "execution_count": 45,
     "metadata": {},
     "output_type": "execute_result"
    }
   ],
   "source": [
    "Str(\"CastThisPath/2021/01/01\").to_snake()"
   ]
  },
  {
   "attachments": {},
   "cell_type": "markdown",
   "metadata": {},
   "source": [
    "#### Pascal examples 🐫"
   ]
  },
  {
   "cell_type": "code",
   "execution_count": 46,
   "metadata": {},
   "outputs": [
    {
     "data": {
      "text/plain": [
       "'CastThisPathToPascal20210101'"
      ]
     },
     "execution_count": 46,
     "metadata": {},
     "output_type": "execute_result"
    }
   ],
   "source": [
    "Str(\"cast_this_path_to_pascal/2021/01/01\").to_pascal()"
   ]
  },
  {
   "cell_type": "code",
   "execution_count": 47,
   "metadata": {},
   "outputs": [
    {
     "data": {
      "text/plain": [
       "'CatMeToPascalPlease'"
      ]
     },
     "execution_count": 47,
     "metadata": {},
     "output_type": "execute_result"
    }
   ],
   "source": [
    "Str(\"cat me to_Pascal Please\").to_pascal()"
   ]
  },
  {
   "attachments": {},
   "cell_type": "markdown",
   "metadata": {},
   "source": [
    "#### Camel 🐪"
   ]
  },
  {
   "cell_type": "code",
   "execution_count": 48,
   "metadata": {},
   "outputs": [
    {
     "data": {
      "text/plain": [
       "'castThisStringToCamel'"
      ]
     },
     "execution_count": 48,
     "metadata": {},
     "output_type": "execute_result"
    }
   ],
   "source": [
    "my_string.to_camel()"
   ]
  },
  {
   "cell_type": "code",
   "execution_count": 49,
   "metadata": {},
   "outputs": [
    {
     "data": {
      "text/plain": [
       "'referenceDataset'"
      ]
     },
     "execution_count": 49,
     "metadata": {},
     "output_type": "execute_result"
    }
   ],
   "source": [
    "Str(\"reference dataset\").to_camel()"
   ]
  },
  {
   "attachments": {},
   "cell_type": "markdown",
   "metadata": {},
   "source": [
    "#### Complex 👽"
   ]
  },
  {
   "cell_type": "code",
   "execution_count": 50,
   "metadata": {},
   "outputs": [
    {
     "data": {
      "text/plain": [
       "'My'"
      ]
     },
     "execution_count": 50,
     "metadata": {},
     "output_type": "execute_result"
    }
   ],
   "source": [
    "# Complex return, recursive Str\n",
    "Str(\"MyStringWorks\").to_snake().split(\"_\")[0].pascal"
   ]
  },
  {
   "attachments": {},
   "cell_type": "markdown",
   "metadata": {},
   "source": [
    "#### Common behavior 👌"
   ]
  },
  {
   "attachments": {},
   "cell_type": "markdown",
   "metadata": {},
   "source": [
    "```ad-note\n",
    "\n",
    "\"_\".join returns a str class not a not or Str with the good features!\n",
    "In the Str we only have recessivity we are not overwriting the str from the global to Str, so it's normal and expected that behavior \n",
    "```"
   ]
  },
  {
   "cell_type": "code",
   "execution_count": 51,
   "metadata": {},
   "outputs": [
    {
     "name": "stdout",
     "output_type": "stream",
     "text": [
      "'str' object has no attribute 'pascal'\n"
     ]
    }
   ],
   "source": [
    "try:\n",
    "    \"_\".join(Str(\"MyStringWorks\").to_snake().split(\"_\")[0:1]).pascal\n",
    "except Exception as e:\n",
    "    print(e)"
   ]
  },
  {
   "cell_type": "code",
   "execution_count": 52,
   "metadata": {},
   "outputs": [
    {
     "data": {
      "text/plain": [
       "'CAST_THIS_STRINGTOCAMEL'"
      ]
     },
     "execution_count": 52,
     "metadata": {},
     "output_type": "execute_result"
    }
   ],
   "source": [
    "# you always has the built-in native Python functions\n",
    "my_string.upper()"
   ]
  },
  {
   "attachments": {},
   "cell_type": "markdown",
   "metadata": {},
   "source": [
    "## Just use a specif function if you prefer!😏"
   ]
  },
  {
   "cell_type": "code",
   "execution_count": 53,
   "metadata": {},
   "outputs": [],
   "source": [
    "from strplus.functions import *"
   ]
  },
  {
   "cell_type": "code",
   "execution_count": 54,
   "metadata": {},
   "outputs": [
    {
     "data": {
      "text/plain": [
       "'parseToCamel'"
      ]
     },
     "execution_count": 54,
     "metadata": {},
     "output_type": "execute_result"
    }
   ],
   "source": [
    "to_camel(\"parse_to_camel\")"
   ]
  },
  {
   "cell_type": "code",
   "execution_count": 55,
   "metadata": {},
   "outputs": [
    {
     "data": {
      "text/plain": [
       "'this_is_another_test'"
      ]
     },
     "execution_count": 55,
     "metadata": {},
     "output_type": "execute_result"
    }
   ],
   "source": [
    "to_snake(\"ThisIsAnotherTest\")"
   ]
  },
  {
   "attachments": {},
   "cell_type": "markdown",
   "metadata": {},
   "source": [
    "## Features 💕\n",
    "\n",
    "### Print inside!"
   ]
  },
  {
   "cell_type": "code",
   "execution_count": 56,
   "metadata": {},
   "outputs": [
    {
     "name": "stdout",
     "output_type": "stream",
     "text": [
      "Print me please, simple and easy!\n"
     ]
    }
   ],
   "source": [
    "my_new_string = Str(\"Print me please, simple and easy!\")\n",
    "\n",
    "my_new_string.print"
   ]
  },
  {
   "cell_type": "code",
   "execution_count": 57,
   "metadata": {},
   "outputs": [
    {
     "name": "stdout",
     "output_type": "stream",
     "text": [
      "Print\n",
      "me\n",
      "please\n",
      "simple\n",
      "and\n",
      "easy\n"
     ]
    }
   ],
   "source": [
    "for word in my_new_string.list:\n",
    "    word.print"
   ]
  },
  {
   "attachments": {},
   "cell_type": "markdown",
   "metadata": {},
   "source": [
    "## For running from the local GitHub📀"
   ]
  },
  {
   "cell_type": "code",
   "execution_count": 58,
   "metadata": {},
   "outputs": [],
   "source": [
    "###Local Test\n",
    "# import os \n",
    "# import sys \n",
    "# sys.path.insert(0, os.path.abspath(\"../..\"))\n",
    "# sys.path.insert(0, os.path.abspath(\"..\"))"
   ]
  }
 ],
 "metadata": {
  "kernelspec": {
   "display_name": "strplus-exZQCaoz-py3.9",
   "language": "python",
   "name": "python3"
  },
  "language_info": {
   "codemirror_mode": {
    "name": "ipython",
    "version": 3
   },
   "file_extension": ".py",
   "mimetype": "text/x-python",
   "name": "python",
   "nbconvert_exporter": "python",
   "pygments_lexer": "ipython3",
   "version": "3.9.16"
  },
  "orig_nbformat": 4
 },
 "nbformat": 4,
 "nbformat_minor": 2
}
