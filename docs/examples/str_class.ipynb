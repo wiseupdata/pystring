{
 "cells": [
  {
   "attachments": {},
   "cell_type": "markdown",
   "metadata": {},
   "source": [
    "# Str class usage!  🏆\n",
    "\n",
    "🚀 Extend your string powers with Str+ "
   ]
  },
  {
   "attachments": {},
   "cell_type": "markdown",
   "metadata": {},
   "source": [
    "### Setup [Optional]\n",
    "<details class=\"tip\">\n",
    "\n",
    "<summary>Create a virtualenv 🔧 </summary>\n",
    "Create a new virtualenv before start this notebook to be able to select it as the kernel, if you want!\n",
    "\n",
    "* Create a new virtualenv.\n",
    "\n",
    "```\n",
    "  pyenv virtualenv 3.9.16 .envStrPlus\n",
    "  pyenv activate .envStrPlus\n",
    "  pip install --upgrade pip\n",
    "  pip install ipykernel\n",
    "  ```\n",
    "\n",
    "* Delete the virtualenv.\n",
    "\n",
    "  ```\n",
    "  pyenv deactivate .envStrPlus\n",
    "  pyenv virtualenv-delete -f .envStrPlus\n",
    "  ```\n",
    "\n",
    "* Should return empty\n",
    "\n",
    "  ```\n",
    "  pyenv versions | grep .envStrPlus\n",
    "  ``` \n",
    "\n",
    "</details>"
   ]
  },
  {
   "attachments": {},
   "cell_type": "markdown",
   "metadata": {},
   "source": [
    "## 💢 Required! "
   ]
  },
  {
   "cell_type": "code",
   "execution_count": null,
   "metadata": {},
   "outputs": [],
   "source": [
    "pip install --upgrade strplus"
   ]
  },
  {
   "cell_type": "code",
   "execution_count": 3,
   "metadata": {},
   "outputs": [],
   "source": [
    "from strplus import Str"
   ]
  },
  {
   "attachments": {},
   "cell_type": "markdown",
   "metadata": {},
   "source": [
    "## 😍 Simples use no parentheses!"
   ]
  },
  {
   "attachments": {},
   "cell_type": "markdown",
   "metadata": {},
   "source": [
    "## 📜 Print inside!"
   ]
  },
  {
   "cell_type": "code",
   "execution_count": 4,
   "metadata": {},
   "outputs": [
    {
     "name": "stdout",
     "output_type": "stream",
     "text": [
      "Print me please, simple and easy!\n"
     ]
    }
   ],
   "source": [
    "my_new_string = Str(\"Print me please, simple and easy!\")\n",
    "\n",
    "my_new_string.print"
   ]
  },
  {
   "cell_type": "code",
   "execution_count": 5,
   "metadata": {},
   "outputs": [
    {
     "name": "stdout",
     "output_type": "stream",
     "text": [
      "Print\n",
      "me\n",
      "please\n",
      "simple\n",
      "and\n",
      "easy\n"
     ]
    }
   ],
   "source": [
    "for word in my_new_string.list:\n",
    "    word.print"
   ]
  },
  {
   "attachments": {},
   "cell_type": "markdown",
   "metadata": {},
   "source": [
    "## ✂️ Str class - Split by separator"
   ]
  },
  {
   "attachments": {},
   "cell_type": "markdown",
   "metadata": {},
   "source": [
    "### No parentheses"
   ]
  },
  {
   "cell_type": "code",
   "execution_count": 6,
   "metadata": {},
   "outputs": [],
   "source": [
    "from strplus import Str"
   ]
  },
  {
   "cell_type": "code",
   "execution_count": 7,
   "metadata": {},
   "outputs": [
    {
     "data": {
      "text/plain": [
       "['one', 'two', 'three', 'four']"
      ]
     },
     "execution_count": 7,
     "metadata": {},
     "output_type": "execute_result"
    }
   ],
   "source": [
    "my_string = Str(\"one;two;three;four\")\n",
    "my_string.split_by_sep"
   ]
  },
  {
   "cell_type": "code",
   "execution_count": 8,
   "metadata": {},
   "outputs": [
    {
     "data": {
      "text/plain": [
       "['one', 'two', 'three', 'four']"
      ]
     },
     "execution_count": 8,
     "metadata": {},
     "output_type": "execute_result"
    }
   ],
   "source": [
    "my_string = Str(\"one,two,three,four\")\n",
    "my_string.split_by_sep"
   ]
  },
  {
   "cell_type": "code",
   "execution_count": 9,
   "metadata": {},
   "outputs": [
    {
     "data": {
      "text/plain": [
       "['one', 'two', 'three', 'four']"
      ]
     },
     "execution_count": 9,
     "metadata": {},
     "output_type": "execute_result"
    }
   ],
   "source": [
    "my_string = Str(\"one|two|three|four\")\n",
    "my_string.split_by_sep"
   ]
  },
  {
   "attachments": {},
   "cell_type": "markdown",
   "metadata": {},
   "source": [
    "### With parentheses"
   ]
  },
  {
   "cell_type": "code",
   "execution_count": 10,
   "metadata": {},
   "outputs": [
    {
     "data": {
      "text/plain": [
       "['one', 'two', 'three', 'four']"
      ]
     },
     "execution_count": 10,
     "metadata": {},
     "output_type": "execute_result"
    }
   ],
   "source": [
    "my_string = Str(\"one;two;three;four\")\n",
    "my_string.split_by_separator()"
   ]
  },
  {
   "cell_type": "code",
   "execution_count": 11,
   "metadata": {},
   "outputs": [
    {
     "data": {
      "text/plain": [
       "['one', 'two', 'three', 'four']"
      ]
     },
     "execution_count": 11,
     "metadata": {},
     "output_type": "execute_result"
    }
   ],
   "source": [
    "my_string = Str(\"one two three four\")\n",
    "my_string.split_by_separator()"
   ]
  },
  {
   "cell_type": "code",
   "execution_count": 12,
   "metadata": {},
   "outputs": [
    {
     "data": {
      "text/plain": [
       "['one', 'two', 'three']"
      ]
     },
     "execution_count": 12,
     "metadata": {},
     "output_type": "execute_result"
    }
   ],
   "source": [
    "my_string = Str(\"one,two,three\")\n",
    "my_string.split_by_separator(\",\")"
   ]
  },
  {
   "attachments": {},
   "cell_type": "markdown",
   "metadata": {},
   "source": [
    "⚠️ Only one separator frequency, so the priority will be respect"
   ]
  },
  {
   "cell_type": "code",
   "execution_count": 13,
   "metadata": {},
   "outputs": [
    {
     "data": {
      "text/plain": [
       "['one', 'two three|four']"
      ]
     },
     "execution_count": 13,
     "metadata": {},
     "output_type": "execute_result"
    }
   ],
   "source": [
    "my_string = Str(\"one-two three|four\")\n",
    "my_string.split_by_separator([\"-\", \" \", \"|\"])"
   ]
  },
  {
   "attachments": {},
   "cell_type": "markdown",
   "metadata": {},
   "source": [
    "## 📎 String Cases"
   ]
  },
  {
   "cell_type": "code",
   "execution_count": 14,
   "metadata": {},
   "outputs": [],
   "source": [
    "from strplus import Str"
   ]
  },
  {
   "cell_type": "code",
   "execution_count": 15,
   "metadata": {},
   "outputs": [
    {
     "data": {
      "text/plain": [
       "'CastThisStringToPascal'"
      ]
     },
     "execution_count": 15,
     "metadata": {},
     "output_type": "execute_result"
    }
   ],
   "source": [
    "my_string = Str(\"Cast_this_string_TO_Pascal!\")\n",
    "\n",
    "my_string.pascal"
   ]
  },
  {
   "cell_type": "code",
   "execution_count": 16,
   "metadata": {},
   "outputs": [
    {
     "data": {
      "text/plain": [
       "'castThisStringToCamel'"
      ]
     },
     "execution_count": 16,
     "metadata": {},
     "output_type": "execute_result"
    }
   ],
   "source": [
    "my_string = Str(\"cast_this_string_to_camel\")\n",
    "\n",
    "my_string.camel"
   ]
  },
  {
   "cell_type": "code",
   "execution_count": 17,
   "metadata": {},
   "outputs": [
    {
     "data": {
      "text/plain": [
       "'cast_this_string_to_snake'"
      ]
     },
     "execution_count": 17,
     "metadata": {},
     "output_type": "execute_result"
    }
   ],
   "source": [
    "my_string = Str(\"Cast_this_StringToSnake\")\n",
    "\n",
    "my_string.snake"
   ]
  },
  {
   "attachments": {},
   "cell_type": "markdown",
   "metadata": {},
   "source": [
    "## 📐 Cast separator to comma. \n",
    "[most frequent separator or the given one!]"
   ]
  },
  {
   "cell_type": "code",
   "execution_count": 18,
   "metadata": {},
   "outputs": [],
   "source": [
    "from strplus import Str"
   ]
  },
  {
   "cell_type": "code",
   "execution_count": 19,
   "metadata": {},
   "outputs": [
    {
     "data": {
      "text/plain": [
       "'test,one,'"
      ]
     },
     "execution_count": 19,
     "metadata": {},
     "output_type": "execute_result"
    }
   ],
   "source": [
    "my_string = Str(\"test;one;\")\n",
    "\n",
    "my_string.separator_as_comma"
   ]
  },
  {
   "cell_type": "code",
   "execution_count": 20,
   "metadata": {},
   "outputs": [
    {
     "data": {
      "text/plain": [
       "',test,one,'"
      ]
     },
     "execution_count": 20,
     "metadata": {},
     "output_type": "execute_result"
    }
   ],
   "source": [
    "my_string = Str(\"|test|one|\")\n",
    "\n",
    "my_string.separator_as_comma"
   ]
  },
  {
   "cell_type": "code",
   "execution_count": 21,
   "metadata": {},
   "outputs": [
    {
     "data": {
      "text/plain": [
       "'test,one'"
      ]
     },
     "execution_count": 21,
     "metadata": {},
     "output_type": "execute_result"
    }
   ],
   "source": [
    "my_string = Str(\"test:one\")\n",
    "\n",
    "my_string.separator_as_comma"
   ]
  },
  {
   "attachments": {},
   "cell_type": "markdown",
   "metadata": {},
   "source": [
    "## 🌱 Cast"
   ]
  },
  {
   "cell_type": "code",
   "execution_count": 22,
   "metadata": {},
   "outputs": [],
   "source": [
    "from strplus import Str"
   ]
  },
  {
   "cell_type": "code",
   "execution_count": 23,
   "metadata": {},
   "outputs": [
    {
     "name": "stdout",
     "output_type": "stream",
     "text": [
      "my_string, \n",
      "type: <class 'strplus.strplus.Str'>, \n",
      "value: Hello, world! \n",
      "instance of str: True\n"
     ]
    }
   ],
   "source": [
    "my_string = Str.cast(\"Hello, world!\")\n",
    "print(f\"my_string, \\ntype: {type(my_string)}, \\nvalue: {my_string} \\ninstance of str: {isinstance(my_string, str)}\")"
   ]
  },
  {
   "cell_type": "code",
   "execution_count": 24,
   "metadata": {},
   "outputs": [
    {
     "name": "stdout",
     "output_type": "stream",
     "text": [
      "my_string, \n",
      "type: <class 'strplus.strplus.Str'>, \n",
      "value: apple-banana-orange \n",
      "instance of str: True\n"
     ]
    }
   ],
   "source": [
    "my_string = Str.cast([\"apple\", \"banana\", \"orange\"], join_sep=\"-\")\n",
    "print(f\"my_string, \\ntype: {type(my_string)}, \\nvalue: {my_string} \\ninstance of str: {isinstance(my_string, str)}\")"
   ]
  },
  {
   "cell_type": "code",
   "execution_count": 25,
   "metadata": {},
   "outputs": [
    {
     "name": "stdout",
     "output_type": "stream",
     "text": [
      "Skipping: It's not possible to cast from type: <class 'int'>\n",
      "my_string, \n",
      "type: <class 'int'>, \n",
      "value: 123 \n",
      "instance of str: False\n"
     ]
    }
   ],
   "source": [
    "my_string = Str.cast(123, type_constraint=False)\n",
    "print(f\"my_string, \\ntype: {type(my_string)}, \\nvalue: {my_string} \\ninstance of str: {isinstance(my_string, str)}\")"
   ]
  },
  {
   "cell_type": "code",
   "execution_count": 26,
   "metadata": {},
   "outputs": [],
   "source": [
    "### Run project local 📀\n",
    "# import os \n",
    "# import sys \n",
    "# sys.path.insert(0, os.path.abspath(\"../..\"))\n",
    "# sys.path.insert(0, os.path.abspath(\"..\"))"
   ]
  }
 ],
 "metadata": {
  "kernelspec": {
   "display_name": "strplus-exZQCaoz-py3.9",
   "language": "python",
   "name": "python3"
  },
  "language_info": {
   "codemirror_mode": {
    "name": "ipython",
    "version": 3
   },
   "file_extension": ".py",
   "mimetype": "text/x-python",
   "name": "python",
   "nbconvert_exporter": "python",
   "pygments_lexer": "ipython3",
   "version": "3.9.16"
  },
  "orig_nbformat": 4
 },
 "nbformat": 4,
 "nbformat_minor": 2
}
